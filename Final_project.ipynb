{
 "cells": [
  {
   "cell_type": "code",
   "execution_count": 1,
   "id": "9191a5eb-fb2c-4a2c-9630-d5276fe61ca1",
   "metadata": {
    "tags": []
   },
   "outputs": [],
   "source": [
    "import sqlite3\n",
    "import pandas as pd\n",
    "import csv"
   ]
  },
  {
   "cell_type": "code",
   "execution_count": 3,
   "id": "0056de65-f793-4a04-8a4f-91860e16b489",
   "metadata": {
    "tags": []
   },
   "outputs": [],
   "source": [
    "#create database connection\n",
    "conn = sqlite3.connect(\"project_group3.db\") #autocommit=False)\n",
    "cursor = conn.cursor()"
   ]
  },
  {
   "cell_type": "code",
   "execution_count": 5,
   "id": "ff1c5ded-b6b7-48e3-9437-7565f5d49a89",
   "metadata": {
    "tags": []
   },
   "outputs": [
    {
     "data": {
      "text/plain": [
       "<sqlite3.Cursor at 0x194f809cc40>"
      ]
     },
     "execution_count": 5,
     "metadata": {},
     "output_type": "execute_result"
    }
   ],
   "source": [
    "#create table\n",
    "create_table = \"\"\"CREATE TABLE airbnb(\n",
    "                        id_host INTEGER PRIMARY KEY,\n",
    "                        host_since DATE,\n",
    "                        host_location TEXT,                \n",
    "                        latitude FLOAT,\n",
    "                        longitude FLOAT,\n",
    "                        price INTEGER,\n",
    "                        reviews_per_month FLOAT);\n",
    "                \"\"\"\n",
    "\n",
    "#execute the query\n",
    "cursor.execute(create_table)"
   ]
  },
  {
   "cell_type": "code",
   "execution_count": null,
   "id": "ec3f8b14-f97f-4b9e-b537-2c042fafaca0",
   "metadata": {},
   "outputs": [],
   "source": []
  },
  {
   "cell_type": "code",
   "execution_count": 7,
   "id": "1232be5d-6baf-4f8d-b330-aedafba5786e",
   "metadata": {
    "tags": []
   },
   "outputs": [
    {
     "data": {
      "text/html": [
       "<div>\n",
       "<style scoped>\n",
       "    .dataframe tbody tr th:only-of-type {\n",
       "        vertical-align: middle;\n",
       "    }\n",
       "\n",
       "    .dataframe tbody tr th {\n",
       "        vertical-align: top;\n",
       "    }\n",
       "\n",
       "    .dataframe thead th {\n",
       "        text-align: right;\n",
       "    }\n",
       "</style>\n",
       "<table border=\"1\" class=\"dataframe\">\n",
       "  <thead>\n",
       "    <tr style=\"text-align: right;\">\n",
       "      <th></th>\n",
       "      <th>id_host</th>\n",
       "      <th>host_since</th>\n",
       "      <th>host_neighbourhood</th>\n",
       "      <th>latitude</th>\n",
       "      <th>longitude</th>\n",
       "      <th>price</th>\n",
       "      <th>reviews_per_month</th>\n",
       "    </tr>\n",
       "  </thead>\n",
       "  <tbody>\n",
       "    <tr>\n",
       "      <th>0</th>\n",
       "      <td>18750597</td>\n",
       "      <td>9/22/2013</td>\n",
       "      <td>Bedford-Stuyvesant</td>\n",
       "      <td>40.69023</td>\n",
       "      <td>-73.95428</td>\n",
       "      <td>100</td>\n",
       "      <td>0.04</td>\n",
       "    </tr>\n",
       "    <tr>\n",
       "      <th>1</th>\n",
       "      <td>17045913</td>\n",
       "      <td>7/31/2015</td>\n",
       "      <td>Greenpoint</td>\n",
       "      <td>40.73076</td>\n",
       "      <td>-73.95575</td>\n",
       "      <td>20</td>\n",
       "      <td>0.49</td>\n",
       "    </tr>\n",
       "    <tr>\n",
       "      <th>2</th>\n",
       "      <td>21737594</td>\n",
       "      <td>8/19/2016</td>\n",
       "      <td>Bushwick</td>\n",
       "      <td>40.68635</td>\n",
       "      <td>-73.91187</td>\n",
       "      <td>25</td>\n",
       "      <td>0.36</td>\n",
       "    </tr>\n",
       "    <tr>\n",
       "      <th>3</th>\n",
       "      <td>22638442</td>\n",
       "      <td>10/12/2014</td>\n",
       "      <td>Crown Heights</td>\n",
       "      <td>40.67157</td>\n",
       "      <td>-73.93434</td>\n",
       "      <td>25</td>\n",
       "      <td>0.04</td>\n",
       "    </tr>\n",
       "    <tr>\n",
       "      <th>4</th>\n",
       "      <td>102995</td>\n",
       "      <td>7/22/2010</td>\n",
       "      <td>The Castro</td>\n",
       "      <td>40.78558</td>\n",
       "      <td>-73.96960</td>\n",
       "      <td>212</td>\n",
       "      <td>0.43</td>\n",
       "    </tr>\n",
       "  </tbody>\n",
       "</table>\n",
       "</div>"
      ],
      "text/plain": [
       "    id_host  host_since  host_neighbourhood  latitude  longitude  price  \\\n",
       "0  18750597   9/22/2013  Bedford-Stuyvesant  40.69023  -73.95428    100   \n",
       "1  17045913   7/31/2015          Greenpoint  40.73076  -73.95575     20   \n",
       "2  21737594   8/19/2016            Bushwick  40.68635  -73.91187     25   \n",
       "3  22638442  10/12/2014       Crown Heights  40.67157  -73.93434     25   \n",
       "4    102995   7/22/2010          The Castro  40.78558  -73.96960    212   \n",
       "\n",
       "   reviews_per_month  \n",
       "0               0.04  \n",
       "1               0.49  \n",
       "2               0.36  \n",
       "3               0.04  \n",
       "4               0.43  "
      ]
     },
     "execution_count": 7,
     "metadata": {},
     "output_type": "execute_result"
    }
   ],
   "source": [
    "#read data\n",
    "df = pd.read_csv(\"Airbnb_final.csv\")\n",
    "df.head()"
   ]
  },
  {
   "cell_type": "code",
   "execution_count": 10,
   "id": "4b091b3a-f1d4-4963-86ae-e7d40f1fbc20",
   "metadata": {},
   "outputs": [
    {
     "data": {
      "text/plain": [
       "49"
      ]
     },
     "execution_count": 10,
     "metadata": {},
     "output_type": "execute_result"
    }
   ],
   "source": [
    "#send data to database\n",
    "df.to_sql('airbnb', conn, if_exists='replace', index=False)"
   ]
  },
  {
   "cell_type": "code",
   "execution_count": 12,
   "id": "4e0d86e3-dd82-4383-9da9-8d9212095e84",
   "metadata": {
    "tags": []
   },
   "outputs": [
    {
     "data": {
      "text/plain": [
       "[(18750597, '9/22/2013', 'Bedford-Stuyvesant', 40.69023, -73.95428, 100, 0.04),\n",
       " (17045913, '7/31/2015', 'Greenpoint', 40.73076, -73.95575, 20, 0.49),\n",
       " (21737594, '8/19/2016', 'Bushwick', 40.68635, -73.91187, 25, 0.36),\n",
       " (22638442, '10/12/2014', 'Crown Heights', 40.67157, -73.93434, 25, 0.04),\n",
       " (102995, '7/22/2010', 'The Castro', 40.78558, -73.9696, 212, 0.43),\n",
       " (22165795, '12/8/2017', 'Bedford-Stuyvesant', 40.68135, -73.94718, 28, 0.04),\n",
       " (150883, '6/21/2011', 'West Village', 40.72855, -74.00305, 200, 0.25),\n",
       " (188674, '8/2/2011', 'East Village', 40.73217, -73.98801, 165, 0.64),\n",
       " (22207196, '10/1/2016', 'Bushwick', 40.68545, -73.91237, 30, 0.17),\n",
       " (272026, '11/19/2011', 'Washington Heights', 40.85774, -73.92901, 60, 0.37),\n",
       " (22249013, '7/5/2014', 'Bushwick', 40.69178, -73.91243, 30, 0.3),\n",
       " (321014, '1/23/2012', 'Gramercy Park', 40.73294, -73.98282, 245, 0.2),\n",
       " (23869761, '3/14/2015', 'Bushwick', 40.69941, -73.93633, 31, 0.05),\n",
       " (393682, '3/19/2012', 'Nolita', 40.72172, -73.99689, 100, 0.66),\n",
       " (22342020, '5/10/2015', 'Crown Heights', 40.67767, -73.95764, 32, 0.04),\n",
       " (462454, '5/5/2012', 'Lower East Side', 40.71746, -73.98782, 89, 0.06),\n",
       " (465277, '4/3/2012', 'Crown Heights', 40.67615, -73.95441, 68, 0.5),\n",
       " (490278, '5/21/2012', 'Midtown East', 40.75632, -73.96464, 99, 0.33),\n",
       " (659952, '8/5/2012', \"Hell's Kitchen\", 40.76287, -73.9957, 99, 0.52),\n",
       " (695216, '9/13/2012', 'Fort Greene', 40.69096, -73.97241, 134, 1.37),\n",
       " (735890, '10/11/2012', 'East Village', 40.72369, -73.9894, 120, 0.08),\n",
       " (22941772, '12/2/2011', 'Bedford-Stuyvesant', 40.6964, -73.94696, 36, 0.05),\n",
       " (789476, '7/28/2010', 'Harlem', 40.79863, -73.95292, 95, 0.44),\n",
       " (812695, '9/23/2011', 'Park Slope', 40.66948, -73.98477, 165, 1.61),\n",
       " (818451, '12/1/2012', 'Upper East Side', 40.76883, -73.95353, 150, 0.29),\n",
       " (19190801, '12/16/2014', 'Bushwick', 40.6969, -73.92627, 37, 0.1),\n",
       " (21922071, '10/24/2015', 'Flatbush', 40.65177, -73.96417, 37, 0.13),\n",
       " (944183, '8/24/2012', 'Harlem', 40.81177, -73.95139, 200, 0.04),\n",
       " (4125515, '9/16/2014', 'Crown Heights', 40.67673, -73.9362, 38, 0.19),\n",
       " (1030780, '9/5/2011', 'Sunset Park', 40.64871, -74.00774, 70, 0.56),\n",
       " (1123960, '4/30/2013', 'Harlem', 40.80815, -73.94325, 70, 0.2),\n",
       " (1150869, '4/29/2013', 'Morningside Heights', 40.80815, -73.96779, 170, 0.07),\n",
       " (1198874, '10/3/2012', \"Hell's Kitchen\", 40.76284, -73.9833, 134, 0.54),\n",
       " (1398969, '7/17/2013', \"Hell's Kitchen\", 40.76395, -73.99439, 55, 0.23),\n",
       " (1475427, '8/2/2013', 'Sunnyside', 40.74234, -73.92579, 102, 0.21),\n",
       " (1530217, '8/14/2013', 'West Village', 40.72977, -74.0024, 349, 0.13),\n",
       " (16336428, '4/5/2014', 'Bedford-Stuyvesant', 40.68997, -73.92742, 40, 0.3),\n",
       " (1815211, '1/5/2012', 'Gramercy Park', 40.73689, -73.98451, 185, 1.08),\n",
       " (1828063, '10/9/2013', 'East Village', 40.72982, -73.98532, 175, 0.73),\n",
       " (1881586, '11/3/2013', 'Midtown East', 40.75669, -73.9666, 225, 0.04),\n",
       " (21978281, '9/23/2017', 'Crown Heights', 40.67528, -73.906, 40, 0.13),\n",
       " (22176782, '6/14/2016', 'Bushwick', 40.70391, -73.92593, 40, 0.17),\n",
       " (22251732, '12/13/2017', 'Bedford-Stuyvesant', 40.6861, -73.95161, 40, 0.08),\n",
       " (2012104, '11/30/2013', 'Morningside Heights', 40.81615, -73.96156, 55, 0.65),\n",
       " (2024991, '12/1/2013', 'Astoria', 40.7577, -73.91981, 100, 0.04),\n",
       " (2033224, '12/4/2013', 'Harlem', 40.81858, -73.9559, 150, 0.18),\n",
       " (2057295, '12/9/2013', 'West Village', 40.73075, -74.00238, 110, 0.29),\n",
       " (2084817, '6/16/2012', 'Lower East Side', 40.71044, -73.98756, 128, 0.6),\n",
       " (2134294, '12/28/2013', 'Astoria', 40.77073, -73.93229, 47, 0.15)]"
      ]
     },
     "execution_count": 12,
     "metadata": {},
     "output_type": "execute_result"
    }
   ],
   "source": [
    "#showing data in database\n",
    "cursor.execute(\"SELECT * FROM airbnb\").fetchall()"
   ]
  },
  {
   "cell_type": "code",
   "execution_count": null,
   "id": "2c4a7e83-5231-41f9-b360-7f6cd423dc17",
   "metadata": {},
   "outputs": [],
   "source": []
  }
 ],
 "metadata": {
  "kernelspec": {
   "display_name": "Python 3 (ipykernel)",
   "language": "python",
   "name": "python3"
  },
  "language_info": {
   "codemirror_mode": {
    "name": "ipython",
    "version": 3
   },
   "file_extension": ".py",
   "mimetype": "text/x-python",
   "name": "python",
   "nbconvert_exporter": "python",
   "pygments_lexer": "ipython3",
   "version": "3.11.4"
  }
 },
 "nbformat": 4,
 "nbformat_minor": 5
}
